{
  "cells": [
    {
      "cell_type": "markdown",
      "metadata": {},
      "source": [
        "# Imports"
      ]
    },
    {
      "cell_type": "code",
      "execution_count": null,
      "metadata": {
        "id": "Eykl0-esI9M2"
      },
      "outputs": [],
      "source": [
        "import numpy as np\n",
        "import pandas as pd\n",
        "\n",
        "import matplotlib.pyplot as plt\n",
        "from matplotlib import cm\n",
        "\n",
        "from mpl_toolkits.mplot3d import Axes3D\n",
        "\n",
        "from sklearn.cluster import MeanShift,OPTICS,DBSCAN\n",
        "from sklearn.cluster import  estimate_bandwidth\n",
        "\n",
        "from tifffile import tifffile\n",
        "\n",
        "import pyvista"
      ]
    },
    {
      "cell_type": "markdown",
      "metadata": {
        "id": "Wg3mHq2dhlXJ"
      },
      "source": [
        "# Data preparation"
      ]
    },
    {
      "cell_type": "markdown",
      "metadata": {
        "id": "toHHMDIOh0w9"
      },
      "source": [
        "## Open the Binary picture"
      ]
    },
    {
      "cell_type": "markdown",
      "metadata": {},
      "source": [
        "Open and read properties of the file"
      ]
    },
    {
      "cell_type": "code",
      "execution_count": null,
      "metadata": {
        "id": "0oQvH0Q3h8OC"
      },
      "outputs": [],
      "source": [
        "\n",
        "# image = tifffile.imread('./Spheroide/Noyau/pred_full_s21_sph2noy1.tif')\n",
        "image = tifffile.imread('./Spheroide/pred_full_s21_sph1.tif')\n",
        "\n",
        "# image = tifffile.imread('512.tif')\n",
        "# type(image) = numpy.ndarray\n",
        "plt.imshow(image[0])\n",
        "print(image.shape)\n",
        "print(type(image))\n",
        "print(type(image[0]))\n",
        "print(type(image[0][0]))\n",
        "print(type(image[0][0][0]))\n",
        "# print(type(image[0][0][0][0])) if type(of_your_img) != binary\n",
        "\n",
        "z = image.shape[0]\n",
        "y = image.shape[1]\n",
        "x = image.shape[2]"
      ]
    },
    {
      "cell_type": "markdown",
      "metadata": {},
      "source": [
        "## Read the stack"
      ]
    },
    {
      "cell_type": "markdown",
      "metadata": {},
      "source": [
        "We create an array of all the pixels white that are supose to represent a cell"
      ]
    },
    {
      "cell_type": "code",
      "execution_count": null,
      "metadata": {
        "id": "IthssgEQN320"
      },
      "outputs": [],
      "source": [
        "arr = []\n",
        "\n",
        "for k in range(z):\n",
        "  print(k,z)\n",
        "  for j in range(y):\n",
        "    for i in range(x):\n",
        "      if(image[k][j][i] >= 128):   #Binarization for 8bits stacks   \n",
        "        arr.append(np.array([i,j,k]))\n",
        "\n",
        "arr = np.array(arr)\n"
      ]
    },
    {
      "cell_type": "code",
      "execution_count": null,
      "metadata": {},
      "outputs": [],
      "source": [
        "print(arr)"
      ]
    },
    {
      "cell_type": "markdown",
      "metadata": {},
      "source": [
        "## Plot on 3D plan"
      ]
    },
    {
      "cell_type": "code",
      "execution_count": null,
      "metadata": {
        "id": "1BA0aKSNPN8Z"
      },
      "outputs": [],
      "source": [
        "data_fig = plt.figure(figsize=(146,146))\n",
        "ax = data_fig.add_subplot(111, projection ='3d')\n",
        "ax.scatter(arr[:, 0], arr[:, 1], arr[:, 2], s= 1000, c=arr[:, 2], cmap = plt.get_cmap('hsv'))\n",
        "\n",
        "plt.show()"
      ]
    },
    {
      "cell_type": "markdown",
      "metadata": {},
      "source": [
        "# Clustering Technics"
      ]
    },
    {
      "cell_type": "markdown",
      "metadata": {
        "id": "qcBv7jtEVTKf"
      },
      "source": [
        "## Mean shift clustering"
      ]
    },
    {
      "cell_type": "markdown",
      "metadata": {},
      "source": [
        "### Train"
      ]
    },
    {
      "cell_type": "code",
      "execution_count": null,
      "metadata": {
        "id": "GuF2-6hh2-Mk"
      },
      "outputs": [],
      "source": [
        "# Note that the quantile parameter has to be change manually in order to cluster the data\n",
        "bandwidth = estimate_bandwidth(arr, quantile=1)\n",
        "# bandwidth = estimate_bandwidth(arr, quantile=0.015, n_samples=int(len(arr)*0.75))\n",
        "model = MeanShift(bandwidth=bandwidth, bin_seeding=True)\n",
        "model.fit(arr)\n",
        "\n",
        "# Deduce variables from MSC\n",
        "cluster_centers = model.cluster_centers_\n",
        "labels = model.labels_\n",
        "cluster_label = np.unique(labels)\n",
        "n_clusters = len(cluster_centers)\n",
        "\n",
        "print(\"{} cluster found\".format(n_clusters))\n",
        "\n",
        "#Ploting\n",
        "msc_fig = plt.figure(figsize=(150, 150))\n",
        "ax = msc_fig.add_subplot(111, projection ='3d')\n",
        "\n",
        "# plt.ion()\n",
        "\n",
        "cmap = plt.get_cmap('hsv')\n",
        "colors = cmap(np.linspace(0, 1.0, n_clusters))\n",
        "\n",
        "for kind, col in zip(cluster_label, colors):\n",
        "    my_members = [i for i in range(len(labels)) if labels[i] == kind]\n",
        "   \n",
        "    plt.plot(arr[my_members, 0], arr[my_members, 1], arr[my_members, 2],  marker='o', color=col)\n",
        "\n",
        "plt.show()"
      ]
    },
    {
      "cell_type": "markdown",
      "metadata": {},
      "source": [
        "## DBSCAN"
      ]
    },
    {
      "cell_type": "markdown",
      "metadata": {},
      "source": [
        "### Train"
      ]
    },
    {
      "cell_type": "code",
      "execution_count": null,
      "metadata": {},
      "outputs": [],
      "source": [
        "# fig = plt.figure(figsize=(10, 10))\n",
        "# ax = Axes3D(fig)\n",
        "# ax.scatter(arr[:,0], arr[:,1], arr[:,2], s=300)\n",
        "# ax.view_init(azim=200)\n",
        "# plt.show()\n",
        "\n",
        "model = DBSCAN(eps=1., min_samples=6, algorithm='ball_tree')\n",
        "model.fit_predict(arr)\n",
        "pred = model.fit_predict(arr)\n",
        "\n",
        "fig = plt.figure(figsize=(10, 10))\n",
        "ax = Axes3D(fig)\n",
        "ax.scatter(arr[:,0], arr[:,1], arr[:,2], c=model.labels_, s=3)\n",
        "ax.view_init(azim=200)\n",
        "plt.show()\n",
        "\n",
        "print(\"number of cluster found: {}\".format(len(set(model.labels_))))\n",
        "print('cluster for each point: ', model.labels_)"
      ]
    },
    {
      "cell_type": "code",
      "execution_count": null,
      "metadata": {},
      "outputs": [],
      "source": [
        "\n",
        "labels = model.labels_\n",
        "cluster_label = np.unique(labels)\n",
        "n_clusters = len(cluster_label)\n",
        "cmap = plt.get_cmap('hsv')\n",
        "colors = cmap(np.linspace(0, 1.0, n_clusters))"
      ]
    },
    {
      "cell_type": "markdown",
      "metadata": {},
      "source": [
        "# Make TIFF image of the clustered data"
      ]
    },
    {
      "cell_type": "markdown",
      "metadata": {},
      "source": [
        "We create a rgb black image"
      ]
    },
    {
      "cell_type": "code",
      "execution_count": null,
      "metadata": {
        "id": "0J95EXMXcIbB"
      },
      "outputs": [],
      "source": [
        "black_image = np.zeros((z, y, x, 3), dtype=np.uint8)\n",
        "print(arr.shape)\n",
        "print(labels.shape)"
      ]
    },
    {
      "cell_type": "markdown",
      "metadata": {},
      "source": [
        "Append pixels of cells with their color"
      ]
    },
    {
      "cell_type": "code",
      "execution_count": null,
      "metadata": {
        "id": "tTd58gVicuHj"
      },
      "outputs": [],
      "source": [
        "for coord,lab in zip(arr,labels):\n",
        "    if lab != -1 :\n",
        "        thiscolor = [np.uint8(np.round(255*colors[lab][0])),np.uint8(np.round(255*colors[lab][1])),np.uint8(np.round(255*colors[lab][2]))]\n",
        "        black_image[coord[2]][coord[1]][coord[0]] = thiscolor"
      ]
    },
    {
      "cell_type": "code",
      "execution_count": null,
      "metadata": {},
      "outputs": [],
      "source": [
        "plt.imshow(black_image[0])"
      ]
    },
    {
      "cell_type": "markdown",
      "metadata": {},
      "source": [
        "Save the picture fully segmented"
      ]
    },
    {
      "cell_type": "code",
      "execution_count": null,
      "metadata": {},
      "outputs": [],
      "source": [
        "tifffile.imwrite('./DBSCAN/temp.tif' , black_image, photometric='rgb')"
      ]
    },
    {
      "cell_type": "code",
      "execution_count": null,
      "metadata": {},
      "outputs": [],
      "source": [
        "#  convert HSV to RGB for the future Dataframe\n",
        "# RGB = [np.uint8(np.round(255*colors[0][0])),np.uint8(np.round(255*colors[0][1])),np.uint8(np.round(255*colors[0][2]))] #TODO remove this line if you havemore than one cluster\n",
        "RGB = [np.uint8(np.round(255*colors[:][0])),np.uint8(np.round(255*colors[:][1])),np.uint8(np.round(255*colors[:][2]))]\n",
        "print(RGB)"
      ]
    },
    {
      "cell_type": "markdown",
      "metadata": {},
      "source": [
        "Check if there are similar rounded color (HSV to rouded RGB might make similar colors with a lot of different values)"
      ]
    },
    {
      "cell_type": "code",
      "execution_count": null,
      "metadata": {},
      "outputs": [],
      "source": [
        "for i,elm in enumerate(colors) :\n",
        "    for i2,elm2 in enumerate(colors) :\n",
        "        if i!=i2 and elm[0] == elm2[0] and elm[1] == elm2[1] and elm[2] == elm2[2] :\n",
        "            print(elm , elm2)\n",
        "        "
      ]
    },
    {
      "cell_type": "markdown",
      "metadata": {},
      "source": [
        "Making a Dataframe that regroup all the data to facilitate all the manipulations"
      ]
    },
    {
      "cell_type": "code",
      "execution_count": null,
      "metadata": {},
      "outputs": [],
      "source": [
        "df = pd.DataFrame(data=arr, columns=[\"X\",\"Y\",\"Z\"])\n",
        "df['group'] = labels\n",
        "df['color'] = [[np.uint8(np.round(255*colors[elm][0])),np.uint8(np.round(255*colors[elm][1])),np.uint8(np.round(255*colors[elm][2]))] for elm in df['group']]\n",
        "# Convert length from pixels to micrometer\n",
        "df[\"Xreal\"] = df[\"X\"] * 0.35 \n",
        "df[\"Yreal\"] = df[\"Y\"] * 0.35 \n",
        "df[\"Zreal\"] = df[\"Z\"]\n",
        "\n",
        "df.sample(10)"
      ]
    },
    {
      "cell_type": "markdown",
      "metadata": {},
      "source": [
        "Isolate real points of a single cell into Numpy arrays for reconstruction"
      ]
    },
    {
      "cell_type": "code",
      "execution_count": null,
      "metadata": {},
      "outputs": [],
      "source": [
        "# Change this variable to print the cell you want to display\n",
        "number_of_thegroup = 0\n",
        "\n",
        "mycell = df.loc[df['group'] == number_of_thegroup]\n",
        "coordonnees= mycell[[\"Xreal\",\"Yreal\",\"Zreal\"]].to_numpy()\n",
        "\n",
        "number_of_thegroup = 2\n",
        "mycell2 = df.loc[df['group'] == number_of_thegroup]\n",
        "coordonnees2= mycell2[[\"Xreal\",\"Yreal\",\"Zreal\"]].to_numpy()\n",
        "\n",
        "coordonnees.shape\n"
      ]
    },
    {
      "cell_type": "code",
      "execution_count": null,
      "metadata": {},
      "outputs": [],
      "source": [
        "mycell.head()"
      ]
    },
    {
      "cell_type": "markdown",
      "metadata": {},
      "source": [
        "Plot the isolated cell"
      ]
    },
    {
      "cell_type": "code",
      "execution_count": null,
      "metadata": {},
      "outputs": [],
      "source": [
        "msc_fig = plt.figure(figsize=(15, 15))\n",
        "ax = msc_fig.add_subplot(111, projection ='3d')\n",
        "\n",
        "plt.ion()\n",
        "\n",
        "cmap = plt.get_cmap('hsv')\n",
        "ax.scatter(mycell[\"Xreal\"], mycell[\"Yreal\"], mycell[\"Zreal\"],s= 20, c=mycell[\"Z\"], cmap = cmap)\n",
        "# for ii in range(0,360,3):\n",
        "#     ax.view_init(elev=10., azim=ii)\n",
        "#     plt.savefig(\"./movie/Noyau/movie%d.png\" % ((ii+90)%360))\n"
      ]
    },
    {
      "cell_type": "markdown",
      "metadata": {},
      "source": [
        "## Reconstruct with Pyvista (Delaunay)"
      ]
    },
    {
      "cell_type": "code",
      "execution_count": null,
      "metadata": {},
      "outputs": [],
      "source": [
        "\n",
        "plot_kwargs = { 'return_viewer': True, 'background': 'white'}\n",
        "# points is a 3D numpy array (n_points, 3) coordinates of a sphere\n",
        "cloud = pyvista.PolyData(coordonnees)\n",
        "cloud2 = pyvista.PolyData(coordonnees2)\n",
        "# cloud.plot()\n",
        "\n",
        "# change the alpha parameter based on the distance between two neighboring points \n",
        "volume = cloud.delaunay_3d(alpha=1.)\n",
        "volume2 = cloud2.delaunay_3d(alpha=1.)\n",
        "\n",
        "shell = volume.extract_geometry()\n",
        "# shell.plot(plot_kwargs,jupyter_backend='ipygany')\n",
        "shell2 = volume2.extract_geometry()\n",
        "\n",
        "merged = shell.merge(shell2) \n",
        "\n",
        "\n",
        "merged.plot(plot_kwargs,jupyter_backend='ipygany')\n",
        "# shell.save('shell.stl') "
      ]
    },
    {
      "cell_type": "code",
      "execution_count": null,
      "metadata": {},
      "outputs": [],
      "source": [
        "# uncomment for smoothing \n",
        "# merged = merged.smooth(n_iter=150)\n",
        "# merged.plot(plot_kwargs,jupyter_backend='ipygany')"
      ]
    },
    {
      "cell_type": "code",
      "execution_count": null,
      "metadata": {},
      "outputs": [],
      "source": [
        "print(cluster_label)"
      ]
    },
    {
      "cell_type": "markdown",
      "metadata": {},
      "source": [
        "Make (independantly) and gather all the meshes of each cluster"
      ]
    },
    {
      "cell_type": "code",
      "execution_count": null,
      "metadata": {},
      "outputs": [],
      "source": [
        "\n",
        "for elm in range(n_clusters-1) :\n",
        "    mycell = df.loc[df['group'] == elm]\n",
        "    coordonnees= mycell[[\"Xreal\",\"Yreal\",\"Zreal\"]].to_numpy()\n",
        "    \n",
        "    # points is a 3D numpy array (n_points, 3) coordinates of a sphere\n",
        "    cloud = pyvista.PolyData(coordonnees)\n",
        "    volume = cloud.delaunay_3d(alpha=1.)\n",
        "    newshell = volume.extract_geometry()\n",
        "    print(elm, n_clusters)\n",
        "    if elm == 0 :\n",
        "        oldshell =newshell\n",
        "    else :\n",
        "        oldshell = oldshell.merge(newshell) \n",
        "\n",
        "\n",
        "\n",
        "plot_kwargs = { 'return_viewer': True, 'background': 'white'}\n",
        "oldshell.plot(plot_kwargs,jupyter_backend='ipygany')"
      ]
    },
    {
      "cell_type": "code",
      "execution_count": null,
      "metadata": {},
      "outputs": [],
      "source": [
        "# uncomment for smoothing the whole mesh before saving\n",
        "# oldshell = oldshell.smooth(n_iter=150)\n",
        "# oldshell.plot(plot_kwargs,jupyter_backend='ipygany')"
      ]
    },
    {
      "cell_type": "code",
      "execution_count": null,
      "metadata": {},
      "outputs": [],
      "source": [
        "oldshell.save('./DBSCAN/my_mesh.stl') "
      ]
    }
  ],
  "metadata": {
    "colab": {
      "collapsed_sections": [],
      "name": "Untitled2.ipynb",
      "provenance": []
    },
    "kernelspec": {
      "display_name": "Python 3",
      "name": "python3"
    },
    "language_info": {
      "codemirror_mode": {
        "name": "ipython",
        "version": 3
      },
      "file_extension": ".py",
      "mimetype": "text/x-python",
      "name": "python",
      "nbconvert_exporter": "python",
      "pygments_lexer": "ipython3",
      "version": "3.8.12"
    }
  },
  "nbformat": 4,
  "nbformat_minor": 0
}
