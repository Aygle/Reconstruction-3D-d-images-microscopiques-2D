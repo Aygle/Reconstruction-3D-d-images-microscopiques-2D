{
 "cells": [
  {
   "cell_type": "markdown",
   "metadata": {},
   "source": [
    "# Imports"
   ]
  },
  {
   "cell_type": "code",
   "execution_count": null,
   "metadata": {},
   "outputs": [],
   "source": [
    "import numpy as np\n",
    "import pandas as pd\n",
    "import os \n",
    "\n",
    "import matplotlib.pyplot as plt\n",
    "from matplotlib import cm\n",
    "\n",
    "from mpl_toolkits.mplot3d import Axes3D\n",
    "\n",
    "from sklearn.cluster import MeanShift,OPTICS,DBSCAN\n",
    "from sklearn.cluster import  estimate_bandwidth\n",
    "\n",
    "from tifffile import tifffile\n",
    "\n",
    "import pyvista"
   ]
  },
  {
   "cell_type": "markdown",
   "metadata": {},
   "source": [
    "# Data import"
   ]
  },
  {
   "cell_type": "markdown",
   "metadata": {},
   "source": [
    "Read a folder with tiif files representing core cells"
   ]
  },
  {
   "cell_type": "code",
   "execution_count": null,
   "metadata": {},
   "outputs": [],
   "source": [
    "dirname = './dbscan_nuclei/AVECNOIR/tif'\n",
    "nuclei_img = []\n",
    "for fname in os.listdir(dirname):\n",
    "    im = tifffile.imread(os.path.join(dirname, fname))\n",
    "    imarray = np.array(im)\n",
    "    nuclei_img.append(imarray)\n",
    "\n",
    "nuclei_img = np.asarray(nuclei_img)"
   ]
  },
  {
   "cell_type": "markdown",
   "metadata": {},
   "source": [
    "# Analyse"
   ]
  },
  {
   "cell_type": "code",
   "execution_count": null,
   "metadata": {},
   "outputs": [],
   "source": [
    "nuclei_img.shape"
   ]
  },
  {
   "cell_type": "code",
   "execution_count": null,
   "metadata": {},
   "outputs": [],
   "source": [
    "for nucleus in nuclei_img :\n",
    "    print(nucleus.shape)"
   ]
  },
  {
   "cell_type": "code",
   "execution_count": null,
   "metadata": {},
   "outputs": [],
   "source": [
    "# Red pixel value of the first image of the first stack of the folder\n",
    "nuclei_img[0][0][0][0][0]"
   ]
  },
  {
   "cell_type": "markdown",
   "metadata": {},
   "source": [
    "# Data Preparation"
   ]
  },
  {
   "cell_type": "markdown",
   "metadata": {},
   "source": [
    "make dataframe with all the pixels of each tiff image of the folder"
   ]
  },
  {
   "cell_type": "code",
   "execution_count": null,
   "metadata": {},
   "outputs": [],
   "source": [
    "nuclei = pd.concat([(pd.DataFrame([[x,y,layer,nucleus_id,nucleus_img[layer][y][x]]], columns=['X','Y','Z','group','value'])) for nucleus_id ,nucleus_img in enumerate(nuclei_img) for layer in range(nucleus_img.shape[0]) for y in range(nucleus_img.shape[1]) for x in range(nucleus_img.shape[2]) if nucleus_img[layer][y][x].all() ],ignore_index=True)\n"
   ]
  },
  {
   "cell_type": "code",
   "execution_count": null,
   "metadata": {},
   "outputs": [],
   "source": [
    "nuclei[\"Xreal\"] = nuclei[\"X\"] * 0.35 \n",
    "nuclei[\"Yreal\"] = nuclei[\"Y\"] * 0.35 \n",
    "nuclei[\"Zreal\"] = nuclei[\"Z\"]"
   ]
  },
  {
   "cell_type": "code",
   "execution_count": null,
   "metadata": {},
   "outputs": [],
   "source": [
    "nuclei.sample(5)"
   ]
  },
  {
   "cell_type": "code",
   "execution_count": null,
   "metadata": {},
   "outputs": [],
   "source": [
    "len(nuclei)"
   ]
  },
  {
   "cell_type": "markdown",
   "metadata": {},
   "source": [
    "# Mean Shift"
   ]
  },
  {
   "cell_type": "code",
   "execution_count": null,
   "metadata": {},
   "outputs": [],
   "source": [
    "# # MSC on 1st img\n",
    "\n",
    "# myimg = nuclei.loc[nuclei['group'] == 0]\n",
    "# pixels = myimg[[\"X\",\"Y\",\"Z\"]].to_numpy()\n",
    "# # bandwidth = estimate_bandwidth(pixels, quantile=0.125)\n",
    "# # bandwidth = estimate_bandwidth(pixels, quantile=0.015, n_samples=int(len(pixels)*0.75))\n",
    "# model = MeanShift( bin_seeding=True)\n",
    "# model.fit(pixels)\n",
    "\n",
    "# # Deduce variables from MSC\n",
    "# cluster_centers = model.cluster_centers_\n",
    "# labels = model.labels_\n",
    "# cluster_label = np.unique(labels)\n",
    "# n_clusters = len(cluster_centers)\n",
    "\n",
    "# print(\"{} cluster found\".format(n_clusters))\n",
    "\n",
    "# #Ploting\n",
    "# msc_fig = plt.figure(figsize=(150, 150))\n",
    "# ax = msc_fig.add_subplot(111, projection ='3d')\n",
    "\n",
    "# # plt.ion()\n",
    "\n",
    "# cmap = plt.get_cmap('hsv')\n",
    "# colors = cmap(np.linspace(0, 1.0, n_clusters))\n",
    "\n",
    "# for kind, col in zip(cluster_label, colors):\n",
    "#     my_members = [i for i in range(len(labels)) if labels[i] == kind]\n",
    "\n",
    "#     plt.plot(pixels[my_members, 0], pixels[my_members, 1], pixels[my_members, 2],  marker='o', color=col)\n",
    "\n",
    "# plt.show()"
   ]
  },
  {
   "cell_type": "code",
   "execution_count": null,
   "metadata": {},
   "outputs": [],
   "source": [
    "# for img in range(len(nuclei_img)):\n",
    "#     myimg = nuclei.loc[nuclei['group'] == img]\n",
    "#     pixels = myimg[[\"X\",\"Y\",\"Z\"]].to_numpy()\n",
    "#     bandwidth = estimate_bandwidth(pixels, quantile=0.5)\n",
    "#     # bandwidth = estimate_bandwidth(pixels, quantile=0.015, n_samples=int(len(pixels)*0.75))\n",
    "#     model = MeanShift(bandwidth=bandwidth, bin_seeding=True)\n",
    "#     model.fit(pixels)\n",
    "\n",
    "#     # Deduce variables from MSC\n",
    "#     cluster_centers = model.cluster_centers_\n",
    "#     labels = model.labels_\n",
    "#     cluster_label = np.unique(labels)\n",
    "#     n_clusters = len(cluster_centers)\n",
    "\n",
    "#     print(\"{} cluster found\".format(n_clusters))\n",
    "\n",
    "#     #Ploting\n",
    "#     msc_fig = plt.figure(figsize=(150, 150))\n",
    "#     ax = msc_fig.add_subplot(111, projection ='3d')\n",
    "\n",
    "#     # plt.ion()\n",
    "\n",
    "#     cmap = plt.get_cmap('hsv')\n",
    "#     colors = cmap(np.linspace(0, 1.0, n_clusters))\n",
    "\n",
    "#     for kind, col in zip(cluster_label, colors):\n",
    "#         my_members = [i for i in range(len(labels)) if labels[i] == kind]\n",
    "    \n",
    "#         plt.plot(pixels[my_members, 0], pixels[my_members, 1], pixels[my_members, 2],  marker='o', color=col)\n",
    "\n",
    "#     plt.show()"
   ]
  },
  {
   "cell_type": "markdown",
   "metadata": {},
   "source": [
    "# Mesh Rendering"
   ]
  },
  {
   "cell_type": "code",
   "execution_count": null,
   "metadata": {},
   "outputs": [],
   "source": [
    "plot_kwargs = { 'return_viewer': True, 'background': 'white'}"
   ]
  },
  {
   "cell_type": "code",
   "execution_count": null,
   "metadata": {},
   "outputs": [],
   "source": [
    "cloudofPoint = nuclei[[\"Xreal\",\"Yreal\",\"Zreal\"]].to_numpy()\n",
    "# points is a 3D numpy array (n_points, 3) coordinates of a sphere\n",
    "cloud = pyvista.PolyData(cloudofPoint)\n",
    "# cloud.plot()\n",
    "volume = cloud.delaunay_3d(alpha=.75)\n",
    "shell = volume.extract_geometry()\n",
    "shell.plot(plot_kwargs,jupyter_backend='ipygany')\n",
    "shell.save(\"./Meshes/mesh%d.stl\" % (id))\n"
   ]
  },
  {
   "cell_type": "code",
   "execution_count": null,
   "metadata": {},
   "outputs": [],
   "source": [
    "shell.save(\"./Meshes/mesh%d.stl\" % (id))"
   ]
  },
  {
   "cell_type": "code",
   "execution_count": null,
   "metadata": {},
   "outputs": [],
   "source": [
    "\n",
    "id=0\n",
    "mycell = nuclei.loc[nuclei['group'] == id]\n",
    "coordonnees = mycell[[\"Xreal\",\"Yreal\",\"Zreal\"]].to_numpy()"
   ]
  },
  {
   "cell_type": "code",
   "execution_count": null,
   "metadata": {},
   "outputs": [],
   "source": [
    "\n",
    "# points is a 3D numpy array (n_points, 3) coordinates of a sphere\n",
    "cloud = pyvista.PolyData(coordonnees)\n",
    "# cloud.plot()\n",
    "volume = cloud.delaunay_3d(alpha=.8)\n",
    "shell = volume.extract_geometry()\n",
    "shell.plot(plot_kwargs,jupyter_backend='ipygany')\n",
    "# shell.save(\"./Meshes/mesh%d.stl\" % (id))"
   ]
  },
  {
   "cell_type": "code",
   "execution_count": null,
   "metadata": {},
   "outputs": [],
   "source": [
    "plot_kwargs = { 'return_viewer': True, 'background': 'white'}\n",
    "\n",
    "for id in range (nuclei_img.shape[0]):\n",
    "    mycell = nuclei.loc[nuclei['group'] == id]\n",
    "    coordonnees = mycell[[\"Xreal\",\"Yreal\",\"Zreal\"]].to_numpy()\n",
    "    # points is a 3D numpy array (n_points, 3) coordinates of a sphere\n",
    "    cloud = pyvista.PolyData(coordonnees)\n",
    "    cloud.plot()\n",
    "    volume = cloud.delaunay_3d(alpha=1.)\n",
    "    shell = volume.extract_geometry()\n",
    "    # shell.plot(plot_kwargs,jupyter_backend='ipygany')\n",
    "    shell.save(\"./Meshes/mesh%d.stl\" % (id))\n"
   ]
  },
  {
   "cell_type": "code",
   "execution_count": null,
   "metadata": {},
   "outputs": [],
   "source": [
    "for elm in range (nuclei_img.shape[0]):\n",
    "    mycell = nuclei.loc[nuclei['group'] == elm]\n",
    "    coordonnees= mycell[[\"Xreal\",\"Yreal\",\"Zreal\"]].to_numpy()\n",
    "    \n",
    "    # points is a 3D numpy array (n_points, 3) coordinates of a sphere\n",
    "    cloud = pyvista.PolyData(coordonnees)\n",
    "    volume = cloud.delaunay_3d(alpha=1.)\n",
    "    newshell = volume.extract_geometry()\n",
    "    print(elm, nuclei_img.shape[0])\n",
    "    if elm == 0 :\n",
    "        oldshell =newshell\n",
    "    else :\n",
    "        oldshell = oldshell.merge(newshell) \n",
    "\n",
    "\n",
    "\n",
    "plot_kwargs = { 'return_viewer': True, 'background': 'white'}\n",
    "oldshell.plot(plot_kwargs,jupyter_backend='ipygany')"
   ]
  }
 ],
 "metadata": {
  "interpreter": {
   "hash": "8004f80ef9ff704c5cc9bb24b489d62a5d893f7d9e7b6afe1325468228a7b8c4"
  },
  "kernelspec": {
   "display_name": "Python 3.8.12 64-bit ('tf26': conda)",
   "name": "python3"
  },
  "language_info": {
   "codemirror_mode": {
    "name": "ipython",
    "version": 3
   },
   "file_extension": ".py",
   "mimetype": "text/x-python",
   "name": "python",
   "nbconvert_exporter": "python",
   "pygments_lexer": "ipython3",
   "version": "3.8.12"
  },
  "orig_nbformat": 4
 },
 "nbformat": 4,
 "nbformat_minor": 2
}
